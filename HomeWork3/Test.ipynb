{
 "cells": [
  {
   "cell_type": "code",
   "execution_count": 12,
   "metadata": {},
   "outputs": [],
   "source": [
    "from numpy import array, arange\n",
    "# https://github.com/davissandefur/Computational-Physics\n",
    "# https://github.com/migibytes/Mark-Newman---Computational-Physics\n",
    "# https://github.com/Nesador95/Computational-Physics-Solutions\n",
    "# https://github.com/moazabdelmaguid/computational-physics/blob/master/ch_8/ch_8-14_shooting_method_quantum_oscillators.py\n",
    "# https://github.com/newtonkwan/comp-physics\n",
    "# https://github.com/adamkali/My-Solutions-to-Computational-Physics.-by-Mark-Newman-/blob/master/section8/excercise8-14.py\n",
    "# https://github.com/search?q=Computational+Physics+Newman\n",
    "# https://github.com/Nesador95/Computational-Physics-Solutions/blob/master/README.md"
   ]
  },
  {
   "cell_type": "code",
   "execution_count": 13,
   "metadata": {},
   "outputs": [],
   "source": [
    "m = 9.1094e-31\n",
    "hbar = 1.0546e-34\n",
    "e = 1.6022e-19\n",
    "L = 5.2918e-11\n",
    "# L = 10e-11\n",
    "N = 1000\n",
    "h = L/N\n",
    "V0 = 100*e\n",
    "a = 10**-11"
   ]
  },
  {
   "cell_type": "code",
   "execution_count": 18,
   "metadata": {},
   "outputs": [],
   "source": [
    "def V(x):\n",
    "    # return 0.0\n",
    "    return V0*(x/L)*(x/L - 1)\n",
    "    # return V0 * x**2/a**2\n",
    "\n",
    "def f(r, x, E):\n",
    "    psi = r[0]\n",
    "    phi = r[1]\n",
    "    fpsi = phi\n",
    "    fphi = (2*m / hbar**2) * (V(x) - E) * psi\n",
    "\n",
    "    return array([fpsi, fphi], float)\n",
    "\n",
    "def solve(E):\n",
    "    psi = 0.0\n",
    "    phi = 1.0\n",
    "    r = array([psi, phi], float)\n",
    "\n",
    "    for x in arange(0, L, h):\n",
    "        k1 = h*f(r         , x        , E)\n",
    "        k2 = h*f(r + 0.5*k1, x + 0.5*h, E)\n",
    "        k3 = h*f(r + 0.5*k2, x + 0.5*h, E)\n",
    "        k4 = h*f(r +     k3, x +     h, E)\n",
    "\n",
    "        # print(f\"{k1}\\n{k2}\\n{k3}\\n{k4}\")\n",
    "\n",
    "        r += (k1 + 2*k2 + 2*k3 + k4)/6\n",
    "\n",
    "    return r[0]"
   ]
  },
  {
   "cell_type": "code",
   "execution_count": 19,
   "metadata": {},
   "outputs": [
    {
     "name": "stdout",
     "output_type": "stream",
     "text": [
      "E = 112.54010720768352 ev\n",
      "E = 1.8031175976815054e-17\n"
     ]
    }
   ],
   "source": [
    "E1 = 0\n",
    "E2 = e\n",
    "psi2 = solve(E1)\n",
    "\n",
    "# print(f\"E1 = {E1}, E2 = {E2}\")\n",
    "\n",
    "\n",
    "i = 0\n",
    "target = e/1000\n",
    "while(abs(E1 - E2) > target):\n",
    "    psi1 = psi2 \n",
    "    psi2 = solve(E2)\n",
    "    dummy = E2\n",
    "    E2 = E2 - (psi2 * (E2 - E1) / (psi2 - psi1))\n",
    "    E1 = dummy\n",
    "\n",
    "    # print(f\"E1 = {E1}, E2 = {E2}\")\n",
    "    # E1, E2 = E2, E2 - (psi2 * (E2 - E1)/(psi2 - psi1))\n",
    "    i += 1\n",
    "\n",
    "print(f\"E = {E2/e} ev\")\n",
    "print(f\"E = {E2}\")\n",
    "# print(f\"took {i} iterations of the while loop\")\n"
   ]
  }
 ],
 "metadata": {
  "kernelspec": {
   "display_name": "thesis",
   "language": "python",
   "name": "python3"
  },
  "language_info": {
   "codemirror_mode": {
    "name": "ipython",
    "version": 3
   },
   "file_extension": ".py",
   "mimetype": "text/x-python",
   "name": "python",
   "nbconvert_exporter": "python",
   "pygments_lexer": "ipython3",
   "version": "3.10.8"
  },
  "orig_nbformat": 4,
  "vscode": {
   "interpreter": {
    "hash": "0099da87c5947ce286d3b9cb8658368d51c29569610ee4f8e225db5e1ddfd0e8"
   }
  }
 },
 "nbformat": 4,
 "nbformat_minor": 2
}
