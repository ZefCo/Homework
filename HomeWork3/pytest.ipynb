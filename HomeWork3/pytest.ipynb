{
 "cells": [
  {
   "cell_type": "code",
   "execution_count": 11,
   "metadata": {},
   "outputs": [
    {
     "name": "stdout",
     "output_type": "stream",
     "text": [
      "E1 = 1, E2 = 2\n"
     ]
    }
   ],
   "source": [
    "impport numpy as np\n",
    "E1 = 1\n",
    "E2 = 2\n",
    "\n",
    "print(f\"E1 = {E1}, E2 = {E2}\")"
   ]
  },
  {
   "cell_type": "code",
   "execution_count": 10,
   "metadata": {},
   "outputs": [
    {
     "name": "stdout",
     "output_type": "stream",
     "text": [
      "E1 = 2, E2 = 1\n"
     ]
    }
   ],
   "source": [
    "E1, E2 = E2, E2 - (E2 - E1)\n",
    "\n",
    "print(f\"E1 = {E1}, E2 = {E2}\")\n"
   ]
  },
  {
   "cell_type": "code",
   "execution_count": 12,
   "metadata": {},
   "outputs": [
    {
     "name": "stdout",
     "output_type": "stream",
     "text": [
      "E1 = 2, E2 = 1\n"
     ]
    }
   ],
   "source": [
    "E2, E1 = E2 - (E2 - E1), E2\n",
    "\n",
    "print(f\"E1 = {E1}, E2 = {E2}\")"
   ]
  },
  {
   "cell_type": "code",
   "execution_count": 14,
   "metadata": {},
   "outputs": [
    {
     "name": "stdout",
     "output_type": "stream",
     "text": [
      "1e-11 1000 1e-14\n"
     ]
    },
    {
     "ename": "NameError",
     "evalue": "name 'arange' is not defined",
     "output_type": "error",
     "traceback": [
      "\u001b[1;31m---------------------------------------------------------------------------\u001b[0m",
      "\u001b[1;31mNameError\u001b[0m                                 Traceback (most recent call last)",
      "Cell \u001b[1;32mIn[14], line 7\u001b[0m\n\u001b[0;32m      3\u001b[0m h \u001b[39m=\u001b[39m L \u001b[39m/\u001b[39m N\n\u001b[0;32m      5\u001b[0m \u001b[39mprint\u001b[39m(L, N, h)\n\u001b[1;32m----> 7\u001b[0m \u001b[39mfor\u001b[39;00m x \u001b[39min\u001b[39;00m arange(\u001b[39m0\u001b[39m, L, h):\n\u001b[0;32m      8\u001b[0m     \u001b[39mprint\u001b[39m(x)\n",
      "\u001b[1;31mNameError\u001b[0m: name 'arange' is not defined"
     ]
    }
   ],
   "source": [
    "\n",
    "L = 10**-11\n",
    "N = 1000\n",
    "h = L / N\n",
    "\n",
    "print(L, N, h)\n",
    "\n",
    "for x in arange(0, L, h):\n",
    "    print(x)"
   ]
  }
 ],
 "metadata": {
  "kernelspec": {
   "display_name": "thesis",
   "language": "python",
   "name": "python3"
  },
  "language_info": {
   "codemirror_mode": {
    "name": "ipython",
    "version": 3
   },
   "file_extension": ".py",
   "mimetype": "text/x-python",
   "name": "python",
   "nbconvert_exporter": "python",
   "pygments_lexer": "ipython3",
   "version": "3.10.8"
  },
  "orig_nbformat": 4
 },
 "nbformat": 4,
 "nbformat_minor": 2
}
